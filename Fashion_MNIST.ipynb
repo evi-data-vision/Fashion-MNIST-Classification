{
  "nbformat": 4,
  "nbformat_minor": 0,
  "metadata": {
    "colab": {
      "provenance": [],
      "gpuType": "A100"
    },
    "kernelspec": {
      "name": "python3",
      "display_name": "Python 3"
    },
    "language_info": {
      "name": "python"
    },
    "accelerator": "GPU"
  },
  "cells": [
    {
      "cell_type": "code",
      "execution_count": 1,
      "metadata": {
        "id": "jlHeyzBoCWgP"
      },
      "outputs": [],
      "source": [
        "import keras\n",
        "import tensorflow as tf\n",
        "import matplotlib.pyplot as plt"
      ]
    },
    {
      "cell_type": "markdown",
      "source": [
        "# Load dataset"
      ],
      "metadata": {
        "id": "ybiOXnaGCF9X"
      }
    },
    {
      "cell_type": "code",
      "source": [
        "(x_train , y_train) , (x_test , y_test) = keras.datasets.fashion_mnist.load_data()"
      ],
      "metadata": {
        "id": "491N8QxiCgYl",
        "colab": {
          "base_uri": "https://localhost:8080/"
        },
        "outputId": "bf16b625-e715-4bf1-8e0d-ead6740a6ae3"
      },
      "execution_count": 2,
      "outputs": [
        {
          "output_type": "stream",
          "name": "stdout",
          "text": [
            "Downloading data from https://storage.googleapis.com/tensorflow/tf-keras-datasets/train-labels-idx1-ubyte.gz\n",
            "\u001b[1m29515/29515\u001b[0m \u001b[32m━━━━━━━━━━━━━━━━━━━━\u001b[0m\u001b[37m\u001b[0m \u001b[1m0s\u001b[0m 0us/step\n",
            "Downloading data from https://storage.googleapis.com/tensorflow/tf-keras-datasets/train-images-idx3-ubyte.gz\n",
            "\u001b[1m26421880/26421880\u001b[0m \u001b[32m━━━━━━━━━━━━━━━━━━━━\u001b[0m\u001b[37m\u001b[0m \u001b[1m0s\u001b[0m 0us/step\n",
            "Downloading data from https://storage.googleapis.com/tensorflow/tf-keras-datasets/t10k-labels-idx1-ubyte.gz\n",
            "\u001b[1m5148/5148\u001b[0m \u001b[32m━━━━━━━━━━━━━━━━━━━━\u001b[0m\u001b[37m\u001b[0m \u001b[1m0s\u001b[0m 0us/step\n",
            "Downloading data from https://storage.googleapis.com/tensorflow/tf-keras-datasets/t10k-images-idx3-ubyte.gz\n",
            "\u001b[1m4422102/4422102\u001b[0m \u001b[32m━━━━━━━━━━━━━━━━━━━━\u001b[0m\u001b[37m\u001b[0m \u001b[1m0s\u001b[0m 0us/step\n"
          ]
        }
      ]
    },
    {
      "cell_type": "code",
      "source": [
        "print(keras.datasets.fashion_mnist.load_data.__doc__)"
      ],
      "metadata": {
        "colab": {
          "base_uri": "https://localhost:8080/"
        },
        "id": "6MBHWmBZ2IPp",
        "outputId": "62a74c05-6b1e-4e67-c636-e0ee2d5b0fa3"
      },
      "execution_count": 3,
      "outputs": [
        {
          "output_type": "stream",
          "name": "stdout",
          "text": [
            "Loads the Fashion-MNIST dataset.\n",
            "\n",
            "    This is a dataset of 60,000 28x28 grayscale images of 10 fashion categories,\n",
            "    along with a test set of 10,000 images. This dataset can be used as\n",
            "    a drop-in replacement for MNIST.\n",
            "\n",
            "    The classes are:\n",
            "\n",
            "    | Label | Description |\n",
            "    |:-----:|-------------|\n",
            "    |   0   | T-shirt/top |\n",
            "    |   1   | Trouser     |\n",
            "    |   2   | Pullover    |\n",
            "    |   3   | Dress       |\n",
            "    |   4   | Coat        |\n",
            "    |   5   | Sandal      |\n",
            "    |   6   | Shirt       |\n",
            "    |   7   | Sneaker     |\n",
            "    |   8   | Bag         |\n",
            "    |   9   | Ankle boot  |\n",
            "\n",
            "    Returns:\n",
            "\n",
            "    Tuple of NumPy arrays: `(x_train, y_train), (x_test, y_test)`.\n",
            "\n",
            "    **`x_train`**: `uint8` NumPy array of grayscale image data with shapes\n",
            "      `(60000, 28, 28)`, containing the training data.\n",
            "\n",
            "    **`y_train`**: `uint8` NumPy array of labels (integers in range 0-9)\n",
            "      with shape `(60000,)` for the training data.\n",
            "\n",
            "    **`x_test`**: `uint8` NumPy array of grayscale image data with shapes\n",
            "      (10000, 28, 28), containing the test data.\n",
            "\n",
            "    **`y_test`**: `uint8` NumPy array of labels (integers in range 0-9)\n",
            "      with shape `(10000,)` for the test data.\n",
            "\n",
            "    Example:\n",
            "\n",
            "    ```python\n",
            "    (x_train, y_train), (x_test, y_test) = fashion_mnist.load_data()\n",
            "    assert x_train.shape == (60000, 28, 28)\n",
            "    assert x_test.shape == (10000, 28, 28)\n",
            "    assert y_train.shape == (60000,)\n",
            "    assert y_test.shape == (10000,)\n",
            "    ```\n",
            "\n",
            "    License:\n",
            "\n",
            "    The copyright for Fashion-MNIST is held by Zalando SE.\n",
            "    Fashion-MNIST is licensed under the [MIT license](\n",
            "        https://github.com/zalandoresearch/fashion-mnist/blob/master/LICENSE).\n",
            "    \n"
          ]
        }
      ]
    },
    {
      "cell_type": "code",
      "source": [
        "class_name = [\n",
        "    'T-shirt/top' ,\n",
        "    'Trouser' ,\n",
        "    'Pullover' ,\n",
        "    'Dress' ,\n",
        "    'Coat' ,\n",
        "    'Sandal' ,\n",
        "    'Shirt' ,\n",
        "    'Sneaker' ,\n",
        "    'Bag' ,\n",
        "    'Ankle boot'\n",
        "]"
      ],
      "metadata": {
        "id": "_2AB7i9K2RgW"
      },
      "execution_count": 4,
      "outputs": []
    },
    {
      "cell_type": "markdown",
      "source": [
        "### show a picture of dataset"
      ],
      "metadata": {
        "id": "y3S1cN1HCJlm"
      }
    },
    {
      "cell_type": "code",
      "source": [
        "index = 17\n",
        "plt.imshow(x_train[index] , cmap = 'gray')\n",
        "plt.show()\n",
        "print(class_name[y_train[index]])"
      ],
      "metadata": {
        "colab": {
          "base_uri": "https://localhost:8080/",
          "height": 447
        },
        "id": "xpMyGund2vKT",
        "outputId": "9f026b49-7213-43a1-8efd-82d141ce7ed3"
      },
      "execution_count": 5,
      "outputs": [
        {
          "output_type": "display_data",
          "data": {
            "text/plain": [
              "<Figure size 640x480 with 1 Axes>"
            ],
            "image/png": "[encoded data removed]"
          },
          "metadata": {}
        },
        {
          "output_type": "stream",
          "name": "stdout",
          "text": [
            "T-shirt/top\n"
          ]
        }
      ]
    },
    {
      "cell_type": "markdown",
      "source": [
        "### Details of dataset"
      ],
      "metadata": {
        "id": "e6VvjvbZCMym"
      }
    },
    {
      "cell_type": "code",
      "source": [
        "x_train.shape"
      ],
      "metadata": {
        "colab": {
          "base_uri": "https://localhost:8080/"
        },
        "id": "36141bD928em",
        "outputId": "4c112d81-3c73-465e-8ee5-c90c53440cfc"
      },
      "execution_count": 6,
      "outputs": [
        {
          "output_type": "execute_result",
          "data": {
            "text/plain": [
              "(60000, 28, 28)"
            ]
          },
          "metadata": {},
          "execution_count": 6
        }
      ]
    },
    {
      "cell_type": "code",
      "source": [
        "x_test.shape"
      ],
      "metadata": {
        "colab": {
          "base_uri": "https://localhost:8080/"
        },
        "id": "Q8J2pcjD3PBB",
        "outputId": "ee8efa36-55fc-4042-c483-ab4c5811c690"
      },
      "execution_count": 7,
      "outputs": [
        {
          "output_type": "execute_result",
          "data": {
            "text/plain": [
              "(10000, 28, 28)"
            ]
          },
          "metadata": {},
          "execution_count": 7
        }
      ]
    },
    {
      "cell_type": "code",
      "source": [
        "y_train.shape"
      ],
      "metadata": {
        "colab": {
          "base_uri": "https://localhost:8080/"
        },
        "id": "WSt58WAZ3QXH",
        "outputId": "027eb4f9-6a8c-45d0-aef1-ad648b2a2f71"
      },
      "execution_count": 8,
      "outputs": [
        {
          "output_type": "execute_result",
          "data": {
            "text/plain": [
              "(60000,)"
            ]
          },
          "metadata": {},
          "execution_count": 8
        }
      ]
    },
    {
      "cell_type": "code",
      "source": [
        "y_test.shape"
      ],
      "metadata": {
        "colab": {
          "base_uri": "https://localhost:8080/"
        },
        "id": "g_uAmQaS3SKd",
        "outputId": "0cba152c-c4c6-498c-8302-f57f9792a2f4"
      },
      "execution_count": 9,
      "outputs": [
        {
          "output_type": "execute_result",
          "data": {
            "text/plain": [
              "(10000,)"
            ]
          },
          "metadata": {},
          "execution_count": 9
        }
      ]
    },
    {
      "cell_type": "markdown",
      "source": [
        "# Preprocessing data"
      ],
      "metadata": {
        "id": "dmp9sLJMCQiv"
      }
    },
    {
      "cell_type": "code",
      "source": [
        "x_train.max()"
      ],
      "metadata": {
        "colab": {
          "base_uri": "https://localhost:8080/"
        },
        "id": "EsS2oo4M3TCY",
        "outputId": "3ef347d4-658d-4212-ca9b-38a0568b78ad"
      },
      "execution_count": 10,
      "outputs": [
        {
          "output_type": "execute_result",
          "data": {
            "text/plain": [
              "np.uint8(255)"
            ]
          },
          "metadata": {},
          "execution_count": 10
        }
      ]
    },
    {
      "cell_type": "code",
      "source": [
        "x_train.min()"
      ],
      "metadata": {
        "colab": {
          "base_uri": "https://localhost:8080/"
        },
        "id": "bzZIBr7e3Upm",
        "outputId": "5633c91d-dcaf-44df-97d2-27f80e7956eb"
      },
      "execution_count": 11,
      "outputs": [
        {
          "output_type": "execute_result",
          "data": {
            "text/plain": [
              "np.uint8(0)"
            ]
          },
          "metadata": {},
          "execution_count": 11
        }
      ]
    },
    {
      "cell_type": "code",
      "source": [
        "x_train = x_train / 255\n",
        "x_test = x_test / 255"
      ],
      "metadata": {
        "id": "5HJqLp553WGD"
      },
      "execution_count": 12,
      "outputs": []
    },
    {
      "cell_type": "code",
      "source": [
        "y_train = keras.utils.to_categorical(y_train)\n",
        "y_test = keras.utils.to_categorical(y_test)"
      ],
      "metadata": {
        "id": "VLQf3lF23dgN"
      },
      "execution_count": 13,
      "outputs": []
    },
    {
      "cell_type": "markdown",
      "source": [
        "# Neural Network"
      ],
      "metadata": {
        "id": "HpU-GWIMCT42"
      }
    },
    {
      "cell_type": "code",
      "source": [
        "from keras.layers import Conv2D , MaxPooling2D , Flatten , Dense , Dropout"
      ],
      "metadata": {
        "id": "pfKKDuKh3nrR"
      },
      "execution_count": 14,
      "outputs": []
    },
    {
      "cell_type": "code",
      "source": [
        "model = keras.models.Sequential()\n",
        "model.add(Conv2D(filters = 32 , kernel_size = (3 , 3) , activation = 'relu' , padding = 'same' , strides = 1 , input_shape = (28 , 28 , 1)))\n",
        "model.add(MaxPooling2D(pool_size = (2 , 2)))\n",
        "model.add(Conv2D(filters = 64 , kernel_size = (3 , 3) , activation = 'relu' , padding = 'same' , strides = 1))\n",
        "model.add(MaxPooling2D(pool_size = (2 , 2)))\n",
        "model.add(Conv2D(filters = 128 , kernel_size = (3 , 3) , activation = 'relu' , padding = 'same' , strides = 1))\n",
        "model.add(MaxPooling2D(pool_size = (2 , 2)))\n",
        "model.add(Flatten())\n",
        "model.add(Dense(units = 256 , activation = 'relu'))\n",
        "model.add(Dropout(rate = 0.3))\n",
        "model.add(Dense(units = 64 , activation = 'relu'))\n",
        "model.add(Dropout(rate = 0.25))\n",
        "model.add(Dense(units = 16 , activation = 'relu'))\n",
        "model.add(Dropout(rate = 0.2))\n",
        "model.add(Dense(units = 10 , activation = 'softmax'))"
      ],
      "metadata": {
        "colab": {
          "base_uri": "https://localhost:8080/"
        },
        "id": "qVDSRbz93o3u",
        "outputId": "c48c139a-d5ae-460e-9e83-db8f20a1c55b"
      },
      "execution_count": 15,
      "outputs": [
        {
          "output_type": "stream",
          "name": "stderr",
          "text": [
            "/usr/local/lib/python3.11/dist-packages/keras/src/layers/convolutional/base_conv.py:113: UserWarning: Do not pass an `input_shape`/`input_dim` argument to a layer. When using Sequential models, prefer using an `Input(shape)` object as the first layer in the model instead.\n",
            "  super().__init__(activity_regularizer=activity_regularizer, **kwargs)\n"
          ]
        }
      ]
    },
    {
      "cell_type": "code",
      "source": [
        "model.summary()"
      ],
      "metadata": {
        "colab": {
          "base_uri": "https://localhost:8080/",
          "height": 577
        },
        "id": "X8g_bUVX58IG",
        "outputId": "3a9bc4cb-ff4e-460b-9f77-746a9889830e"
      },
      "execution_count": 16,
      "outputs": [
        {
          "output_type": "display_data",
          "data": {
            "text/plain": [
              "\u001b[1mModel: \"sequential\"\u001b[0m\n"
            ],
            "text/html": [
              "<pre style=\"white-space:pre;overflow-x:auto;line-height:normal;font-family:Menlo,'DejaVu Sans Mono',consolas,'Courier New',monospace\"><span style=\"font-weight: bold\">Model: \"sequential\"</span>\n",
              "</pre>\n"
            ]
          },
          "metadata": {}
        },
        {
          "output_type": "display_data",
          "data": {
            "text/plain": [
              "┏━━━━━━━━━━━━━━━━━━━━━━━━━━━━━━━━━┳━━━━━━━━━━━━━━━━━━━━━━━━┳━━━━━━━━━━━━━━━┓\n",
              "┃\u001b[1m \u001b[0m\u001b[1mLayer (type)                   \u001b[0m\u001b[1m \u001b[0m┃\u001b[1m \u001b[0m\u001b[1mOutput Shape          \u001b[0m\u001b[1m \u001b[0m┃\u001b[1m \u001b[0m\u001b[1m      Param #\u001b[0m\u001b[1m \u001b[0m┃\n",
              "┡━━━━━━━━━━━━━━━━━━━━━━━━━━━━━━━━━╇━━━━━━━━━━━━━━━━━━━━━━━━╇━━━━━━━━━━━━━━━┩\n",
              "│ conv2d (\u001b[38;5;33mConv2D\u001b[0m)                 │ (\u001b[38;5;45mNone\u001b[0m, \u001b[38;5;34m28\u001b[0m, \u001b[38;5;34m28\u001b[0m, \u001b[38;5;34m32\u001b[0m)     │           \u001b[38;5;34m320\u001b[0m │\n",
              "├─────────────────────────────────┼────────────────────────┼───────────────┤\n",
              "│ max_pooling2d (\u001b[38;5;33mMaxPooling2D\u001b[0m)    │ (\u001b[38;5;45mNone\u001b[0m, \u001b[38;5;34m14\u001b[0m, \u001b[38;5;34m14\u001b[0m, \u001b[38;5;34m32\u001b[0m)     │             \u001b[38;5;34m0\u001b[0m │\n",
              "├─────────────────────────────────┼────────────────────────┼───────────────┤\n",
              "│ conv2d_1 (\u001b[38;5;33mConv2D\u001b[0m)               │ (\u001b[38;5;45mNone\u001b[0m, \u001b[38;5;34m14\u001b[0m, \u001b[38;5;34m14\u001b[0m, \u001b[38;5;34m64\u001b[0m)     │        \u001b[38;5;34m18,496\u001b[0m │\n",
              "├─────────────────────────────────┼────────────────────────┼───────────────┤\n",
              "│ max_pooling2d_1 (\u001b[38;5;33mMaxPooling2D\u001b[0m)  │ (\u001b[38;5;45mNone\u001b[0m, \u001b[38;5;34m7\u001b[0m, \u001b[38;5;34m7\u001b[0m, \u001b[38;5;34m64\u001b[0m)       │             \u001b[38;5;34m0\u001b[0m │\n",
              "├─────────────────────────────────┼────────────────────────┼───────────────┤\n",
              "│ conv2d_2 (\u001b[38;5;33mConv2D\u001b[0m)               │ (\u001b[38;5;45mNone\u001b[0m, \u001b[38;5;34m7\u001b[0m, \u001b[38;5;34m7\u001b[0m, \u001b[38;5;34m128\u001b[0m)      │        \u001b[38;5;34m73,856\u001b[0m │\n",
              "├─────────────────────────────────┼────────────────────────┼───────────────┤\n",
              "│ max_pooling2d_2 (\u001b[38;5;33mMaxPooling2D\u001b[0m)  │ (\u001b[38;5;45mNone\u001b[0m, \u001b[38;5;34m3\u001b[0m, \u001b[38;5;34m3\u001b[0m, \u001b[38;5;34m128\u001b[0m)      │             \u001b[38;5;34m0\u001b[0m │\n",
              "├─────────────────────────────────┼────────────────────────┼───────────────┤\n",
              "│ flatten (\u001b[38;5;33mFlatten\u001b[0m)               │ (\u001b[38;5;45mNone\u001b[0m, \u001b[38;5;34m1152\u001b[0m)           │             \u001b[38;5;34m0\u001b[0m │\n",
              "├─────────────────────────────────┼────────────────────────┼───────────────┤\n",
              "│ dense (\u001b[38;5;33mDense\u001b[0m)                   │ (\u001b[38;5;45mNone\u001b[0m, \u001b[38;5;34m256\u001b[0m)            │       \u001b[38;5;34m295,168\u001b[0m │\n",
              "├─────────────────────────────────┼────────────────────────┼───────────────┤\n",
              "│ dropout (\u001b[38;5;33mDropout\u001b[0m)               │ (\u001b[38;5;45mNone\u001b[0m, \u001b[38;5;34m256\u001b[0m)            │             \u001b[38;5;34m0\u001b[0m │\n",
              "├─────────────────────────────────┼────────────────────────┼───────────────┤\n",
              "│ dense_1 (\u001b[38;5;33mDense\u001b[0m)                 │ (\u001b[38;5;45mNone\u001b[0m, \u001b[38;5;34m64\u001b[0m)             │        \u001b[38;5;34m16,448\u001b[0m │\n",
              "├─────────────────────────────────┼────────────────────────┼───────────────┤\n",
              "│ dropout_1 (\u001b[38;5;33mDropout\u001b[0m)             │ (\u001b[38;5;45mNone\u001b[0m, \u001b[38;5;34m64\u001b[0m)             │             \u001b[38;5;34m0\u001b[0m │\n",
              "├─────────────────────────────────┼────────────────────────┼───────────────┤\n",
              "│ dense_2 (\u001b[38;5;33mDense\u001b[0m)                 │ (\u001b[38;5;45mNone\u001b[0m, \u001b[38;5;34m16\u001b[0m)             │         \u001b[38;5;34m1,040\u001b[0m │\n",
              "├─────────────────────────────────┼────────────────────────┼───────────────┤\n",
              "│ dropout_2 (\u001b[38;5;33mDropout\u001b[0m)             │ (\u001b[38;5;45mNone\u001b[0m, \u001b[38;5;34m16\u001b[0m)             │             \u001b[38;5;34m0\u001b[0m │\n",
              "├─────────────────────────────────┼────────────────────────┼───────────────┤\n",
              "│ dense_3 (\u001b[38;5;33mDense\u001b[0m)                 │ (\u001b[38;5;45mNone\u001b[0m, \u001b[38;5;34m10\u001b[0m)             │           \u001b[38;5;34m170\u001b[0m │\n",
              "└─────────────────────────────────┴────────────────────────┴───────────────┘\n"
            ],
            "text/html": [
              "<pre style=\"white-space:pre;overflow-x:auto;line-height:normal;font-family:Menlo,'DejaVu Sans Mono',consolas,'Courier New',monospace\">┏━━━━━━━━━━━━━━━━━━━━━━━━━━━━━━━━━┳━━━━━━━━━━━━━━━━━━━━━━━━┳━━━━━━━━━━━━━━━┓\n",
              "┃<span style=\"font-weight: bold\"> Layer (type)                    </span>┃<span style=\"font-weight: bold\"> Output Shape           </span>┃<span style=\"font-weight: bold\">       Param # </span>┃\n",
              "┡━━━━━━━━━━━━━━━━━━━━━━━━━━━━━━━━━╇━━━━━━━━━━━━━━━━━━━━━━━━╇━━━━━━━━━━━━━━━┩\n",
              "│ conv2d (<span style=\"color: #0087ff; text-decoration-color: #0087ff\">Conv2D</span>)                 │ (<span style=\"color: #00d7ff; text-decoration-color: #00d7ff\">None</span>, <span style=\"color: #00af00; text-decoration-color: #00af00\">28</span>, <span style=\"color: #00af00; text-decoration-color: #00af00\">28</span>, <span style=\"color: #00af00; text-decoration-color: #00af00\">32</span>)     │           <span style=\"color: #00af00; text-decoration-color: #00af00\">320</span> │\n",
              "├─────────────────────────────────┼────────────────────────┼───────────────┤\n",
              "│ max_pooling2d (<span style=\"color: #0087ff; text-decoration-color: #0087ff\">MaxPooling2D</span>)    │ (<span style=\"color: #00d7ff; text-decoration-color: #00d7ff\">None</span>, <span style=\"color: #00af00; text-decoration-color: #00af00\">14</span>, <span style=\"color: #00af00; text-decoration-color: #00af00\">14</span>, <span style=\"color: #00af00; text-decoration-color: #00af00\">32</span>)     │             <span style=\"color: #00af00; text-decoration-color: #00af00\">0</span> │\n",
              "├─────────────────────────────────┼────────────────────────┼───────────────┤\n",
              "│ conv2d_1 (<span style=\"color: #0087ff; text-decoration-color: #0087ff\">Conv2D</span>)               │ (<span style=\"color: #00d7ff; text-decoration-color: #00d7ff\">None</span>, <span style=\"color: #00af00; text-decoration-color: #00af00\">14</span>, <span style=\"color: #00af00; text-decoration-color: #00af00\">14</span>, <span style=\"color: #00af00; text-decoration-color: #00af00\">64</span>)     │        <span style=\"color: #00af00; text-decoration-color: #00af00\">18,496</span> │\n",
              "├─────────────────────────────────┼────────────────────────┼───────────────┤\n",
              "│ max_pooling2d_1 (<span style=\"color: #0087ff; text-decoration-color: #0087ff\">MaxPooling2D</span>)  │ (<span style=\"color: #00d7ff; text-decoration-color: #00d7ff\">None</span>, <span style=\"color: #00af00; text-decoration-color: #00af00\">7</span>, <span style=\"color: #00af00; text-decoration-color: #00af00\">7</span>, <span style=\"color: #00af00; text-decoration-color: #00af00\">64</span>)       │             <span style=\"color: #00af00; text-decoration-color: #00af00\">0</span> │\n",
              "├─────────────────────────────────┼────────────────────────┼───────────────┤\n",
              "│ conv2d_2 (<span style=\"color: #0087ff; text-decoration-color: #0087ff\">Conv2D</span>)               │ (<span style=\"color: #00d7ff; text-decoration-color: #00d7ff\">None</span>, <span style=\"color: #00af00; text-decoration-color: #00af00\">7</span>, <span style=\"color: #00af00; text-decoration-color: #00af00\">7</span>, <span style=\"color: #00af00; text-decoration-color: #00af00\">128</span>)      │        <span style=\"color: #00af00; text-decoration-color: #00af00\">73,856</span> │\n",
              "├─────────────────────────────────┼────────────────────────┼───────────────┤\n",
              "│ max_pooling2d_2 (<span style=\"color: #0087ff; text-decoration-color: #0087ff\">MaxPooling2D</span>)  │ (<span style=\"color: #00d7ff; text-decoration-color: #00d7ff\">None</span>, <span style=\"color: #00af00; text-decoration-color: #00af00\">3</span>, <span style=\"color: #00af00; text-decoration-color: #00af00\">3</span>, <span style=\"color: #00af00; text-decoration-color: #00af00\">128</span>)      │             <span style=\"color: #00af00; text-decoration-color: #00af00\">0</span> │\n",
              "├─────────────────────────────────┼────────────────────────┼───────────────┤\n",
              "│ flatten (<span style=\"color: #0087ff; text-decoration-color: #0087ff\">Flatten</span>)               │ (<span style=\"color: #00d7ff; text-decoration-color: #00d7ff\">None</span>, <span style=\"color: #00af00; text-decoration-color: #00af00\">1152</span>)           │             <span style=\"color: #00af00; text-decoration-color: #00af00\">0</span> │\n",
              "├─────────────────────────────────┼────────────────────────┼───────────────┤\n",
              "│ dense (<span style=\"color: #0087ff; text-decoration-color: #0087ff\">Dense</span>)                   │ (<span style=\"color: #00d7ff; text-decoration-color: #00d7ff\">None</span>, <span style=\"color: #00af00; text-decoration-color: #00af00\">256</span>)            │       <span style=\"color: #00af00; text-decoration-color: #00af00\">295,168</span> │\n",
              "├─────────────────────────────────┼────────────────────────┼───────────────┤\n",
              "│ dropout (<span style=\"color: #0087ff; text-decoration-color: #0087ff\">Dropout</span>)               │ (<span style=\"color: #00d7ff; text-decoration-color: #00d7ff\">None</span>, <span style=\"color: #00af00; text-decoration-color: #00af00\">256</span>)            │             <span style=\"color: #00af00; text-decoration-color: #00af00\">0</span> │\n",
              "├─────────────────────────────────┼────────────────────────┼───────────────┤\n",
              "│ dense_1 (<span style=\"color: #0087ff; text-decoration-color: #0087ff\">Dense</span>)                 │ (<span style=\"color: #00d7ff; text-decoration-color: #00d7ff\">None</span>, <span style=\"color: #00af00; text-decoration-color: #00af00\">64</span>)             │        <span style=\"color: #00af00; text-decoration-color: #00af00\">16,448</span> │\n",
              "├─────────────────────────────────┼────────────────────────┼───────────────┤\n",
              "│ dropout_1 (<span style=\"color: #0087ff; text-decoration-color: #0087ff\">Dropout</span>)             │ (<span style=\"color: #00d7ff; text-decoration-color: #00d7ff\">None</span>, <span style=\"color: #00af00; text-decoration-color: #00af00\">64</span>)             │             <span style=\"color: #00af00; text-decoration-color: #00af00\">0</span> │\n",
              "├─────────────────────────────────┼────────────────────────┼───────────────┤\n",
              "│ dense_2 (<span style=\"color: #0087ff; text-decoration-color: #0087ff\">Dense</span>)                 │ (<span style=\"color: #00d7ff; text-decoration-color: #00d7ff\">None</span>, <span style=\"color: #00af00; text-decoration-color: #00af00\">16</span>)             │         <span style=\"color: #00af00; text-decoration-color: #00af00\">1,040</span> │\n",
              "├─────────────────────────────────┼────────────────────────┼───────────────┤\n",
              "│ dropout_2 (<span style=\"color: #0087ff; text-decoration-color: #0087ff\">Dropout</span>)             │ (<span style=\"color: #00d7ff; text-decoration-color: #00d7ff\">None</span>, <span style=\"color: #00af00; text-decoration-color: #00af00\">16</span>)             │             <span style=\"color: #00af00; text-decoration-color: #00af00\">0</span> │\n",
              "├─────────────────────────────────┼────────────────────────┼───────────────┤\n",
              "│ dense_3 (<span style=\"color: #0087ff; text-decoration-color: #0087ff\">Dense</span>)                 │ (<span style=\"color: #00d7ff; text-decoration-color: #00d7ff\">None</span>, <span style=\"color: #00af00; text-decoration-color: #00af00\">10</span>)             │           <span style=\"color: #00af00; text-decoration-color: #00af00\">170</span> │\n",
              "└─────────────────────────────────┴────────────────────────┴───────────────┘\n",
              "</pre>\n"
            ]
          },
          "metadata": {}
        },
        {
          "output_type": "display_data",
          "data": {
            "text/plain": [
              "\u001b[1m Total params: \u001b[0m\u001b[38;5;34m405,498\u001b[0m (1.55 MB)\n"
            ],
            "text/html": [
              "<pre style=\"white-space:pre;overflow-x:auto;line-height:normal;font-family:Menlo,'DejaVu Sans Mono',consolas,'Courier New',monospace\"><span style=\"font-weight: bold\"> Total params: </span><span style=\"color: #00af00; text-decoration-color: #00af00\">405,498</span> (1.55 MB)\n",
              "</pre>\n"
            ]
          },
          "metadata": {}
        },
        {
          "output_type": "display_data",
          "data": {
            "text/plain": [
              "\u001b[1m Trainable params: \u001b[0m\u001b[38;5;34m405,498\u001b[0m (1.55 MB)\n"
            ],
            "text/html": [
              "<pre style=\"white-space:pre;overflow-x:auto;line-height:normal;font-family:Menlo,'DejaVu Sans Mono',consolas,'Courier New',monospace\"><span style=\"font-weight: bold\"> Trainable params: </span><span style=\"color: #00af00; text-decoration-color: #00af00\">405,498</span> (1.55 MB)\n",
              "</pre>\n"
            ]
          },
          "metadata": {}
        },
        {
          "output_type": "display_data",
          "data": {
            "text/plain": [
              "\u001b[1m Non-trainable params: \u001b[0m\u001b[38;5;34m0\u001b[0m (0.00 B)\n"
            ],
            "text/html": [
              "<pre style=\"white-space:pre;overflow-x:auto;line-height:normal;font-family:Menlo,'DejaVu Sans Mono',consolas,'Courier New',monospace\"><span style=\"font-weight: bold\"> Non-trainable params: </span><span style=\"color: #00af00; text-decoration-color: #00af00\">0</span> (0.00 B)\n",
              "</pre>\n"
            ]
          },
          "metadata": {}
        }
      ]
    },
    {
      "cell_type": "code",
      "source": [
        "model.compile(optimizer = tf.optimizers.Adagrad(learning_rate = 0.005) ,\n",
        "              loss = tf.losses.CategoricalCrossentropy() ,\n",
        "              metrics = [tf.metrics.CategoricalAccuracy()])"
      ],
      "metadata": {
        "id": "zoH-4zEl6Vgs"
      },
      "execution_count": 17,
      "outputs": []
    },
    {
      "cell_type": "code",
      "source": [
        "model.fit(x_train , y_train , epochs = 100 , batch_size = 32 , validation_split = 0.2 , verbose = 2)"
      ],
      "metadata": {
        "colab": {
          "base_uri": "https://localhost:8080/"
        },
        "id": "BYemaFzu60Af",
        "outputId": "a9c8e9c2-5807-4251-9560-41b5def088fd"
      },
      "execution_count": 18,
      "outputs": [
        {
          "output_type": "stream",
          "name": "stdout",
          "text": [
            "Epoch 1/100\n",
            "1500/1500 - 12s - 8ms/step - categorical_accuracy: 0.4513 - loss: 1.4429 - val_categorical_accuracy: 0.7449 - val_loss: 0.7338\n",
            "Epoch 2/100\n",
            "1500/1500 - 4s - 3ms/step - categorical_accuracy: 0.6709 - loss: 0.8659 - val_categorical_accuracy: 0.7768 - val_loss: 0.6033\n",
            "Epoch 3/100\n",
            "1500/1500 - 4s - 3ms/step - categorical_accuracy: 0.7209 - loss: 0.7395 - val_categorical_accuracy: 0.7965 - val_loss: 0.5373\n",
            "Epoch 4/100\n",
            "1500/1500 - 4s - 3ms/step - categorical_accuracy: 0.7502 - loss: 0.6735 - val_categorical_accuracy: 0.8121 - val_loss: 0.4962\n",
            "Epoch 5/100\n",
            "1500/1500 - 4s - 3ms/step - categorical_accuracy: 0.7715 - loss: 0.6195 - val_categorical_accuracy: 0.8251 - val_loss: 0.4682\n",
            "Epoch 6/100\n",
            "1500/1500 - 4s - 3ms/step - categorical_accuracy: 0.7825 - loss: 0.5892 - val_categorical_accuracy: 0.8309 - val_loss: 0.4489\n",
            "Epoch 7/100\n",
            "1500/1500 - 4s - 3ms/step - categorical_accuracy: 0.7947 - loss: 0.5685 - val_categorical_accuracy: 0.8449 - val_loss: 0.4380\n",
            "Epoch 8/100\n",
            "1500/1500 - 4s - 3ms/step - categorical_accuracy: 0.8042 - loss: 0.5455 - val_categorical_accuracy: 0.8461 - val_loss: 0.4261\n",
            "Epoch 9/100\n",
            "1500/1500 - 4s - 3ms/step - categorical_accuracy: 0.8139 - loss: 0.5259 - val_categorical_accuracy: 0.8526 - val_loss: 0.4104\n",
            "Epoch 10/100\n",
            "1500/1500 - 4s - 3ms/step - categorical_accuracy: 0.8199 - loss: 0.5101 - val_categorical_accuracy: 0.8592 - val_loss: 0.3959\n",
            "Epoch 11/100\n",
            "1500/1500 - 4s - 3ms/step - categorical_accuracy: 0.8269 - loss: 0.4917 - val_categorical_accuracy: 0.8587 - val_loss: 0.3915\n",
            "Epoch 12/100\n",
            "1500/1500 - 4s - 3ms/step - categorical_accuracy: 0.8313 - loss: 0.4828 - val_categorical_accuracy: 0.8643 - val_loss: 0.3752\n",
            "Epoch 13/100\n",
            "1500/1500 - 4s - 3ms/step - categorical_accuracy: 0.8355 - loss: 0.4692 - val_categorical_accuracy: 0.8631 - val_loss: 0.3725\n",
            "Epoch 14/100\n",
            "1500/1500 - 4s - 3ms/step - categorical_accuracy: 0.8375 - loss: 0.4611 - val_categorical_accuracy: 0.8719 - val_loss: 0.3594\n",
            "Epoch 15/100\n",
            "1500/1500 - 4s - 3ms/step - categorical_accuracy: 0.8437 - loss: 0.4460 - val_categorical_accuracy: 0.8714 - val_loss: 0.3541\n",
            "Epoch 16/100\n",
            "1500/1500 - 4s - 3ms/step - categorical_accuracy: 0.8471 - loss: 0.4363 - val_categorical_accuracy: 0.8743 - val_loss: 0.3441\n",
            "Epoch 17/100\n",
            "1500/1500 - 4s - 3ms/step - categorical_accuracy: 0.8505 - loss: 0.4287 - val_categorical_accuracy: 0.8747 - val_loss: 0.3451\n",
            "Epoch 18/100\n",
            "1500/1500 - 4s - 3ms/step - categorical_accuracy: 0.8537 - loss: 0.4212 - val_categorical_accuracy: 0.8783 - val_loss: 0.3434\n",
            "Epoch 19/100\n",
            "1500/1500 - 4s - 3ms/step - categorical_accuracy: 0.8547 - loss: 0.4163 - val_categorical_accuracy: 0.8815 - val_loss: 0.3309\n",
            "Epoch 20/100\n",
            "1500/1500 - 4s - 3ms/step - categorical_accuracy: 0.8569 - loss: 0.4084 - val_categorical_accuracy: 0.8802 - val_loss: 0.3306\n",
            "Epoch 21/100\n",
            "1500/1500 - 4s - 3ms/step - categorical_accuracy: 0.8608 - loss: 0.4033 - val_categorical_accuracy: 0.8822 - val_loss: 0.3272\n",
            "Epoch 22/100\n",
            "1500/1500 - 4s - 3ms/step - categorical_accuracy: 0.8621 - loss: 0.3954 - val_categorical_accuracy: 0.8833 - val_loss: 0.3221\n",
            "Epoch 23/100\n",
            "1500/1500 - 4s - 3ms/step - categorical_accuracy: 0.8633 - loss: 0.3932 - val_categorical_accuracy: 0.8800 - val_loss: 0.3224\n",
            "Epoch 24/100\n",
            "1500/1500 - 4s - 3ms/step - categorical_accuracy: 0.8671 - loss: 0.3844 - val_categorical_accuracy: 0.8855 - val_loss: 0.3260\n",
            "Epoch 25/100\n",
            "1500/1500 - 4s - 3ms/step - categorical_accuracy: 0.8666 - loss: 0.3826 - val_categorical_accuracy: 0.8867 - val_loss: 0.3140\n",
            "Epoch 26/100\n",
            "1500/1500 - 4s - 3ms/step - categorical_accuracy: 0.8680 - loss: 0.3787 - val_categorical_accuracy: 0.8873 - val_loss: 0.3146\n",
            "Epoch 27/100\n",
            "1500/1500 - 4s - 3ms/step - categorical_accuracy: 0.8703 - loss: 0.3723 - val_categorical_accuracy: 0.8898 - val_loss: 0.3092\n",
            "Epoch 28/100\n",
            "1500/1500 - 4s - 3ms/step - categorical_accuracy: 0.8724 - loss: 0.3643 - val_categorical_accuracy: 0.8880 - val_loss: 0.3073\n",
            "Epoch 29/100\n",
            "1500/1500 - 4s - 3ms/step - categorical_accuracy: 0.8741 - loss: 0.3614 - val_categorical_accuracy: 0.8915 - val_loss: 0.3042\n",
            "Epoch 30/100\n",
            "1500/1500 - 4s - 3ms/step - categorical_accuracy: 0.8738 - loss: 0.3617 - val_categorical_accuracy: 0.8914 - val_loss: 0.3038\n",
            "Epoch 31/100\n",
            "1500/1500 - 4s - 3ms/step - categorical_accuracy: 0.8783 - loss: 0.3549 - val_categorical_accuracy: 0.8928 - val_loss: 0.3017\n",
            "Epoch 32/100\n",
            "1500/1500 - 4s - 3ms/step - categorical_accuracy: 0.8770 - loss: 0.3532 - val_categorical_accuracy: 0.8921 - val_loss: 0.3003\n",
            "Epoch 33/100\n",
            "1500/1500 - 4s - 3ms/step - categorical_accuracy: 0.8786 - loss: 0.3528 - val_categorical_accuracy: 0.8935 - val_loss: 0.2976\n",
            "Epoch 34/100\n",
            "1500/1500 - 4s - 3ms/step - categorical_accuracy: 0.8792 - loss: 0.3501 - val_categorical_accuracy: 0.8935 - val_loss: 0.2999\n",
            "Epoch 35/100\n",
            "1500/1500 - 4s - 3ms/step - categorical_accuracy: 0.8814 - loss: 0.3394 - val_categorical_accuracy: 0.8969 - val_loss: 0.2952\n",
            "Epoch 36/100\n",
            "1500/1500 - 4s - 3ms/step - categorical_accuracy: 0.8829 - loss: 0.3390 - val_categorical_accuracy: 0.8970 - val_loss: 0.2917\n",
            "Epoch 37/100\n",
            "1500/1500 - 4s - 3ms/step - categorical_accuracy: 0.8836 - loss: 0.3371 - val_categorical_accuracy: 0.8948 - val_loss: 0.2957\n",
            "Epoch 38/100\n",
            "1500/1500 - 4s - 3ms/step - categorical_accuracy: 0.8826 - loss: 0.3358 - val_categorical_accuracy: 0.8957 - val_loss: 0.2907\n",
            "Epoch 39/100\n",
            "1500/1500 - 4s - 3ms/step - categorical_accuracy: 0.8875 - loss: 0.3295 - val_categorical_accuracy: 0.8949 - val_loss: 0.2952\n",
            "Epoch 40/100\n",
            "1500/1500 - 4s - 3ms/step - categorical_accuracy: 0.8871 - loss: 0.3317 - val_categorical_accuracy: 0.8984 - val_loss: 0.2874\n",
            "Epoch 41/100\n",
            "1500/1500 - 4s - 3ms/step - categorical_accuracy: 0.8865 - loss: 0.3281 - val_categorical_accuracy: 0.8972 - val_loss: 0.2891\n",
            "Epoch 42/100\n",
            "1500/1500 - 4s - 3ms/step - categorical_accuracy: 0.8897 - loss: 0.3217 - val_categorical_accuracy: 0.8981 - val_loss: 0.2847\n",
            "Epoch 43/100\n",
            "1500/1500 - 4s - 3ms/step - categorical_accuracy: 0.8899 - loss: 0.3190 - val_categorical_accuracy: 0.8988 - val_loss: 0.2842\n",
            "Epoch 44/100\n",
            "1500/1500 - 4s - 3ms/step - categorical_accuracy: 0.8902 - loss: 0.3170 - val_categorical_accuracy: 0.8978 - val_loss: 0.2859\n",
            "Epoch 45/100\n",
            "1500/1500 - 4s - 3ms/step - categorical_accuracy: 0.8900 - loss: 0.3176 - val_categorical_accuracy: 0.8991 - val_loss: 0.2847\n",
            "Epoch 46/100\n",
            "1500/1500 - 4s - 3ms/step - categorical_accuracy: 0.8923 - loss: 0.3139 - val_categorical_accuracy: 0.8995 - val_loss: 0.2846\n",
            "Epoch 47/100\n",
            "1500/1500 - 4s - 3ms/step - categorical_accuracy: 0.8931 - loss: 0.3097 - val_categorical_accuracy: 0.9022 - val_loss: 0.2797\n",
            "Epoch 48/100\n",
            "1500/1500 - 4s - 3ms/step - categorical_accuracy: 0.8934 - loss: 0.3101 - val_categorical_accuracy: 0.9022 - val_loss: 0.2829\n",
            "Epoch 49/100\n",
            "1500/1500 - 4s - 3ms/step - categorical_accuracy: 0.8930 - loss: 0.3069 - val_categorical_accuracy: 0.9009 - val_loss: 0.2778\n",
            "Epoch 50/100\n",
            "1500/1500 - 4s - 3ms/step - categorical_accuracy: 0.8959 - loss: 0.3060 - val_categorical_accuracy: 0.9006 - val_loss: 0.2765\n",
            "Epoch 51/100\n",
            "1500/1500 - 4s - 3ms/step - categorical_accuracy: 0.8959 - loss: 0.3024 - val_categorical_accuracy: 0.8985 - val_loss: 0.2864\n",
            "Epoch 52/100\n",
            "1500/1500 - 4s - 3ms/step - categorical_accuracy: 0.8948 - loss: 0.3020 - val_categorical_accuracy: 0.9031 - val_loss: 0.2750\n",
            "Epoch 53/100\n",
            "1500/1500 - 4s - 3ms/step - categorical_accuracy: 0.8980 - loss: 0.2967 - val_categorical_accuracy: 0.9021 - val_loss: 0.2779\n",
            "Epoch 54/100\n",
            "1500/1500 - 4s - 3ms/step - categorical_accuracy: 0.8971 - loss: 0.2964 - val_categorical_accuracy: 0.9007 - val_loss: 0.2806\n",
            "Epoch 55/100\n",
            "1500/1500 - 4s - 3ms/step - categorical_accuracy: 0.8989 - loss: 0.2962 - val_categorical_accuracy: 0.9032 - val_loss: 0.2760\n",
            "Epoch 56/100\n",
            "1500/1500 - 4s - 3ms/step - categorical_accuracy: 0.8986 - loss: 0.2935 - val_categorical_accuracy: 0.9030 - val_loss: 0.2755\n",
            "Epoch 57/100\n",
            "1500/1500 - 4s - 3ms/step - categorical_accuracy: 0.8996 - loss: 0.2920 - val_categorical_accuracy: 0.9033 - val_loss: 0.2758\n",
            "Epoch 58/100\n",
            "1500/1500 - 4s - 3ms/step - categorical_accuracy: 0.9012 - loss: 0.2889 - val_categorical_accuracy: 0.9057 - val_loss: 0.2731\n",
            "Epoch 59/100\n",
            "1500/1500 - 4s - 3ms/step - categorical_accuracy: 0.9026 - loss: 0.2887 - val_categorical_accuracy: 0.9060 - val_loss: 0.2690\n",
            "Epoch 60/100\n",
            "1500/1500 - 4s - 3ms/step - categorical_accuracy: 0.9013 - loss: 0.2882 - val_categorical_accuracy: 0.9057 - val_loss: 0.2712\n",
            "Epoch 61/100\n",
            "1500/1500 - 4s - 3ms/step - categorical_accuracy: 0.9024 - loss: 0.2853 - val_categorical_accuracy: 0.9058 - val_loss: 0.2689\n",
            "Epoch 62/100\n",
            "1500/1500 - 4s - 3ms/step - categorical_accuracy: 0.9033 - loss: 0.2829 - val_categorical_accuracy: 0.9067 - val_loss: 0.2708\n",
            "Epoch 63/100\n",
            "1500/1500 - 4s - 3ms/step - categorical_accuracy: 0.9035 - loss: 0.2785 - val_categorical_accuracy: 0.9038 - val_loss: 0.2778\n",
            "Epoch 64/100\n",
            "1500/1500 - 4s - 3ms/step - categorical_accuracy: 0.9049 - loss: 0.2780 - val_categorical_accuracy: 0.9062 - val_loss: 0.2708\n",
            "Epoch 65/100\n",
            "1500/1500 - 4s - 3ms/step - categorical_accuracy: 0.9048 - loss: 0.2790 - val_categorical_accuracy: 0.9073 - val_loss: 0.2680\n",
            "Epoch 66/100\n",
            "1500/1500 - 4s - 3ms/step - categorical_accuracy: 0.9060 - loss: 0.2758 - val_categorical_accuracy: 0.9060 - val_loss: 0.2699\n",
            "Epoch 67/100\n",
            "1500/1500 - 4s - 3ms/step - categorical_accuracy: 0.9057 - loss: 0.2736 - val_categorical_accuracy: 0.9078 - val_loss: 0.2678\n",
            "Epoch 68/100\n",
            "1500/1500 - 4s - 3ms/step - categorical_accuracy: 0.9056 - loss: 0.2740 - val_categorical_accuracy: 0.9081 - val_loss: 0.2647\n",
            "Epoch 69/100\n",
            "1500/1500 - 4s - 3ms/step - categorical_accuracy: 0.9088 - loss: 0.2699 - val_categorical_accuracy: 0.9082 - val_loss: 0.2650\n",
            "Epoch 70/100\n",
            "1500/1500 - 4s - 3ms/step - categorical_accuracy: 0.9088 - loss: 0.2688 - val_categorical_accuracy: 0.9075 - val_loss: 0.2671\n",
            "Epoch 71/100\n",
            "1500/1500 - 4s - 3ms/step - categorical_accuracy: 0.9099 - loss: 0.2676 - val_categorical_accuracy: 0.9089 - val_loss: 0.2687\n",
            "Epoch 72/100\n",
            "1500/1500 - 4s - 3ms/step - categorical_accuracy: 0.9076 - loss: 0.2669 - val_categorical_accuracy: 0.9094 - val_loss: 0.2632\n",
            "Epoch 73/100\n",
            "1500/1500 - 4s - 3ms/step - categorical_accuracy: 0.9101 - loss: 0.2645 - val_categorical_accuracy: 0.9082 - val_loss: 0.2627\n",
            "Epoch 74/100\n",
            "1500/1500 - 4s - 3ms/step - categorical_accuracy: 0.9100 - loss: 0.2615 - val_categorical_accuracy: 0.9085 - val_loss: 0.2653\n",
            "Epoch 75/100\n",
            "1500/1500 - 4s - 3ms/step - categorical_accuracy: 0.9094 - loss: 0.2645 - val_categorical_accuracy: 0.9091 - val_loss: 0.2621\n",
            "Epoch 76/100\n",
            "1500/1500 - 4s - 3ms/step - categorical_accuracy: 0.9093 - loss: 0.2617 - val_categorical_accuracy: 0.9080 - val_loss: 0.2614\n",
            "Epoch 77/100\n",
            "1500/1500 - 4s - 3ms/step - categorical_accuracy: 0.9112 - loss: 0.2606 - val_categorical_accuracy: 0.9096 - val_loss: 0.2615\n",
            "Epoch 78/100\n",
            "1500/1500 - 4s - 3ms/step - categorical_accuracy: 0.9111 - loss: 0.2597 - val_categorical_accuracy: 0.9080 - val_loss: 0.2674\n",
            "Epoch 79/100\n",
            "1500/1500 - 4s - 3ms/step - categorical_accuracy: 0.9143 - loss: 0.2535 - val_categorical_accuracy: 0.9110 - val_loss: 0.2588\n",
            "Epoch 80/100\n",
            "1500/1500 - 4s - 3ms/step - categorical_accuracy: 0.9123 - loss: 0.2538 - val_categorical_accuracy: 0.9117 - val_loss: 0.2606\n",
            "Epoch 81/100\n",
            "1500/1500 - 4s - 3ms/step - categorical_accuracy: 0.9124 - loss: 0.2545 - val_categorical_accuracy: 0.9107 - val_loss: 0.2616\n",
            "Epoch 82/100\n",
            "1500/1500 - 4s - 3ms/step - categorical_accuracy: 0.9136 - loss: 0.2526 - val_categorical_accuracy: 0.9114 - val_loss: 0.2593\n",
            "Epoch 83/100\n",
            "1500/1500 - 4s - 3ms/step - categorical_accuracy: 0.9154 - loss: 0.2491 - val_categorical_accuracy: 0.9101 - val_loss: 0.2599\n",
            "Epoch 84/100\n",
            "1500/1500 - 4s - 3ms/step - categorical_accuracy: 0.9146 - loss: 0.2494 - val_categorical_accuracy: 0.9105 - val_loss: 0.2637\n",
            "Epoch 85/100\n",
            "1500/1500 - 4s - 3ms/step - categorical_accuracy: 0.9161 - loss: 0.2462 - val_categorical_accuracy: 0.9114 - val_loss: 0.2599\n",
            "Epoch 86/100\n",
            "1500/1500 - 4s - 3ms/step - categorical_accuracy: 0.9170 - loss: 0.2468 - val_categorical_accuracy: 0.9128 - val_loss: 0.2626\n",
            "Epoch 87/100\n",
            "1500/1500 - 4s - 3ms/step - categorical_accuracy: 0.9168 - loss: 0.2436 - val_categorical_accuracy: 0.9087 - val_loss: 0.2651\n",
            "Epoch 88/100\n",
            "1500/1500 - 4s - 3ms/step - categorical_accuracy: 0.9166 - loss: 0.2442 - val_categorical_accuracy: 0.9112 - val_loss: 0.2621\n",
            "Epoch 89/100\n",
            "1500/1500 - 4s - 3ms/step - categorical_accuracy: 0.9173 - loss: 0.2427 - val_categorical_accuracy: 0.9112 - val_loss: 0.2604\n",
            "Epoch 90/100\n",
            "1500/1500 - 4s - 3ms/step - categorical_accuracy: 0.9177 - loss: 0.2416 - val_categorical_accuracy: 0.9111 - val_loss: 0.2600\n",
            "Epoch 91/100\n",
            "1500/1500 - 4s - 3ms/step - categorical_accuracy: 0.9184 - loss: 0.2396 - val_categorical_accuracy: 0.9131 - val_loss: 0.2567\n",
            "Epoch 92/100\n",
            "1500/1500 - 4s - 3ms/step - categorical_accuracy: 0.9193 - loss: 0.2373 - val_categorical_accuracy: 0.9128 - val_loss: 0.2570\n",
            "Epoch 93/100\n",
            "1500/1500 - 4s - 3ms/step - categorical_accuracy: 0.9193 - loss: 0.2368 - val_categorical_accuracy: 0.9139 - val_loss: 0.2586\n",
            "Epoch 94/100\n",
            "1500/1500 - 4s - 3ms/step - categorical_accuracy: 0.9192 - loss: 0.2369 - val_categorical_accuracy: 0.9133 - val_loss: 0.2573\n",
            "Epoch 95/100\n",
            "1500/1500 - 4s - 3ms/step - categorical_accuracy: 0.9189 - loss: 0.2344 - val_categorical_accuracy: 0.9135 - val_loss: 0.2564\n",
            "Epoch 96/100\n",
            "1500/1500 - 4s - 3ms/step - categorical_accuracy: 0.9208 - loss: 0.2329 - val_categorical_accuracy: 0.9129 - val_loss: 0.2555\n",
            "Epoch 97/100\n",
            "1500/1500 - 4s - 3ms/step - categorical_accuracy: 0.9209 - loss: 0.2313 - val_categorical_accuracy: 0.9140 - val_loss: 0.2559\n",
            "Epoch 98/100\n",
            "1500/1500 - 4s - 3ms/step - categorical_accuracy: 0.9201 - loss: 0.2306 - val_categorical_accuracy: 0.9139 - val_loss: 0.2563\n",
            "Epoch 99/100\n",
            "1500/1500 - 4s - 3ms/step - categorical_accuracy: 0.9223 - loss: 0.2293 - val_categorical_accuracy: 0.9143 - val_loss: 0.2509\n",
            "Epoch 100/100\n",
            "1500/1500 - 4s - 3ms/step - categorical_accuracy: 0.9232 - loss: 0.2255 - val_categorical_accuracy: 0.9133 - val_loss: 0.2562\n"
          ]
        },
        {
          "output_type": "execute_result",
          "data": {
            "text/plain": [
              "<keras.src.callbacks.history.History at 0x7f19abb7fd10>"
            ]
          },
          "metadata": {},
          "execution_count": 18
        }
      ]
    },
    {
      "cell_type": "code",
      "source": [
        "model.evaluate(x_test , y_test)"
      ],
      "metadata": {
        "id": "nFZSJzPs7vOn",
        "colab": {
          "base_uri": "https://localhost:8080/"
        },
        "outputId": "1e6941f5-4919-4ccc-ca61-66b6144e0510"
      },
      "execution_count": 20,
      "outputs": [
        {
          "output_type": "stream",
          "name": "stdout",
          "text": [
            "\u001b[1m313/313\u001b[0m \u001b[32m━━━━━━━━━━━━━━━━━━━━\u001b[0m\u001b[37m\u001b[0m \u001b[1m3s\u001b[0m 7ms/step - categorical_accuracy: 0.9086 - loss: 0.2840\n"
          ]
        },
        {
          "output_type": "execute_result",
          "data": {
            "text/plain": [
              "[0.277697890996933, 0.9081000089645386]"
            ]
          },
          "metadata": {},
          "execution_count": 20
        }
      ]
    },
    {
      "cell_type": "markdown",
      "source": [
        "# Manual test"
      ],
      "metadata": {
        "id": "uQggidqQCXA_"
      }
    },
    {
      "cell_type": "code",
      "source": [
        "import numpy as np\n",
        "from PIL import Image , ImageOps\n",
        "\n",
        "img = Image.open('image.jpg')\n",
        "img.thumbnail((28 , 28))\n",
        "img = img.convert('L')\n",
        "img = ImageOps.invert(img)\n",
        "img = np.array(img).reshape(1 , 28 , 28)\n",
        "img = img / 255\n"
      ],
      "metadata": {
        "id": "XqQiAnuEAjsN"
      },
      "execution_count": 32,
      "outputs": []
    },
    {
      "cell_type": "code",
      "source": [
        "pred_img = model.predict(img)"
      ],
      "metadata": {
        "colab": {
          "base_uri": "https://localhost:8080/"
        },
        "id": "YDqdE8nGBHj5",
        "outputId": "36de9265-d90c-427a-e996-16fa5d450a34"
      },
      "execution_count": 33,
      "outputs": [
        {
          "output_type": "stream",
          "name": "stdout",
          "text": [
            "\u001b[1m1/1\u001b[0m \u001b[32m━━━━━━━━━━━━━━━━━━━━\u001b[0m\u001b[37m\u001b[0m \u001b[1m1s\u001b[0m 626ms/step\n"
          ]
        }
      ]
    },
    {
      "cell_type": "code",
      "source": [
        "class_name[pred_img.argmax()]"
      ],
      "metadata": {
        "colab": {
          "base_uri": "https://localhost:8080/",
          "height": 36
        },
        "id": "B5l-sC6IBe_b",
        "outputId": "40195c05-dde9-4f69-f664-4d1eebc76f35"
      },
      "execution_count": 35,
      "outputs": [
        {
          "output_type": "execute_result",
          "data": {
            "text/plain": [
              "'Shirt'"
            ],
            "application/vnd.google.colaboratory.intrinsic+json": {
              "type": "string"
            }
          },
          "metadata": {},
          "execution_count": 35
        }
      ]
    },
    {
      "cell_type": "code",
      "source": [],
      "metadata": {
        "id": "DGZPcYOfB5vE"
      },
      "execution_count": null,
      "outputs": []
    }
  ]
}